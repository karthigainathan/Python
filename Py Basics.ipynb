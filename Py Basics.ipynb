{
 "cells": [
  {
   "cell_type": "markdown",
   "metadata": {},
   "source": [
    "# Lists"
   ]
  },
  {
   "cell_type": "code",
   "execution_count": 3,
   "metadata": {},
   "outputs": [
    {
     "name": "stdout",
     "output_type": "stream",
     "text": [
      "[1, 2, 3, 4, 5, 6, 7, 8, 9, 10]\n",
      "[11, 12, 13, 14, 15, 16, 17, 18, 19, 20]\n",
      "[21, 22, 23, 24, 25, 26, 27, 28, 29, 30]\n"
     ]
    }
   ],
   "source": [
    "#list_inside_list\n",
    "\n",
    "lists = [\n",
    "        [1,2,3,4,5,6,7,8,9,10],\n",
    "        [11,12,13,14,15,16,17,18,19,20],\n",
    "        [21,22,23,24,25,26,27,28,29,30],\n",
    "        ]\n",
    "for x in lists:\n",
    "    print(x)"
   ]
  },
  {
   "cell_type": "code",
   "execution_count": 4,
   "metadata": {},
   "outputs": [
    {
     "name": "stdout",
     "output_type": "stream",
     "text": [
      "looping elements\n",
      "element is 1\n",
      "element is 2\n",
      "element is 3\n",
      "element is 4\n",
      "element is 5\n",
      "element is 6\n",
      "element is 7\n",
      "element is 8\n",
      "element is 9\n",
      "element is 10\n",
      "element is 11\n",
      "element is 12\n",
      "element is 13\n",
      "element is 14\n",
      "element is 15\n",
      "element is 16\n",
      "element is 17\n",
      "element is 18\n",
      "element is 19\n",
      "element is 20\n",
      "element is 21\n",
      "element is 22\n",
      "element is 23\n",
      "element is 24\n",
      "element is 25\n",
      "element is 26\n",
      "element is 27\n",
      "element is 28\n",
      "element is 29\n",
      "element is 30\n"
     ]
    }
   ],
   "source": [
    "#iterating list\n",
    "print(\"looping elements\")\n",
    "for row in lists:\n",
    "    for element in row:\n",
    "        print(f\"element is {element}\")"
   ]
  },
  {
   "cell_type": "code",
   "execution_count": 5,
   "metadata": {},
   "outputs": [
    {
     "name": "stdout",
     "output_type": "stream",
     "text": [
      "element[0][0] is 1\n",
      "element[0][1] is 2\n",
      "element[0][2] is 3\n",
      "element[0][3] is 4\n",
      "element[0][4] is 5\n",
      "element[0][5] is 6\n",
      "element[0][6] is 7\n",
      "element[0][7] is 8\n",
      "element[0][8] is 9\n",
      "element[0][9] is 10\n",
      "element[1][0] is 11\n",
      "element[1][1] is 12\n",
      "element[1][2] is 13\n",
      "element[1][3] is 14\n",
      "element[1][4] is 15\n",
      "element[1][5] is 16\n",
      "element[1][6] is 17\n",
      "element[1][7] is 18\n",
      "element[1][8] is 19\n",
      "element[1][9] is 20\n",
      "element[2][0] is 21\n",
      "element[2][1] is 22\n",
      "element[2][2] is 23\n",
      "element[2][3] is 24\n",
      "element[2][4] is 25\n",
      "element[2][5] is 26\n",
      "element[2][6] is 27\n",
      "element[2][7] is 28\n",
      "element[2][8] is 29\n",
      "element[2][9] is 30\n"
     ]
    }
   ],
   "source": [
    "#range(0, 3) => 0,1,2\n",
    "for i in range(0, len(lists)):# i = 012\n",
    "    #range(0,10)=> 0,1,2,3,..,8,9\n",
    "    for j in range(0,len(lists[i])):# i=0 ; j=0123...89\n",
    "        print(f\"element[{i}][{j}] is {lists[i][j]}\")"
   ]
  },
  {
   "cell_type": "code",
   "execution_count": 14,
   "metadata": {},
   "outputs": [
    {
     "name": "stdout",
     "output_type": "stream",
     "text": [
      "[1]\n",
      "[1, 2]\n",
      "[1, 2, 3]\n",
      "[1, 2, 3, 4]\n",
      "[1, 2, 3, 4, 5]\n",
      "[1, 2, 3, 4, 5, 6]\n",
      "[1, 2, 3, 4, 5, 6, 7]\n",
      "[1, 2, 3, 4, 5, 6, 7, 8]\n",
      "[1, 2, 3, 4, 5, 6, 7, 8, 9]\n",
      "[1, 2, 3, 4, 5, 6, 7, 8, 9, 10]\n"
     ]
    }
   ],
   "source": [
    "lists = (1,2,3,4,5,6,7,8,9,10)\n",
    "newlist = []\n",
    "for x in lists:\n",
    "    newlist.append(x)\n",
    "    print(newlist)"
   ]
  },
  {
   "cell_type": "code",
   "execution_count": 11,
   "metadata": {},
   "outputs": [
    {
     "data": {
      "text/plain": [
       "[1, 2, 3, 4, 5, 6, 7, 8, 9, 10]"
      ]
     },
     "execution_count": 11,
     "metadata": {},
     "output_type": "execute_result"
    }
   ],
   "source": [
    "lists = [1,2,3,4,5,6,7,8,9,10]\n",
    "new = [values for values in lists]\n",
    "new"
   ]
  },
  {
   "cell_type": "code",
   "execution_count": 9,
   "metadata": {},
   "outputs": [
    {
     "name": "stdout",
     "output_type": "stream",
     "text": [
      "0\n",
      "Letters at index 0 is = P\n",
      "1\n",
      "Letters at index 1 is = y\n",
      "2\n",
      "Letters at index 2 is = t\n",
      "3\n",
      "Letters at index 3 is = h\n",
      "4\n",
      "Letters at index 4 is = o\n",
      "5\n",
      "Letters at index 5 is = n\n",
      "0\n",
      "Countries at index 0 is = India\n",
      "1\n",
      "Countries at index 1 is = U K\n",
      "2\n",
      "Countries at index 2 is = U S A\n",
      "3\n",
      "Countries at index 3 is = Australia\n"
     ]
    }
   ],
   "source": [
    "# Python For Loop - String Example\n",
    "Str = \"Python\"\n",
    "for word in range(len(Str)):\n",
    "    print(word)\n",
    "    print(\"Letters at index {0} is = {1}\".format(word, Str[word]))\n",
    "  \n",
    "#print(\"----This is Outside String For Loop---\")\n",
    "#print(\" \")\n",
    "\n",
    "# Python For Loop - List Example\n",
    "Countries = ['India', 'U K', 'U S A', 'Australia']\n",
    "for Country in range(len(Countries)):\n",
    "    print (Country)\n",
    "    print(\"Countries at index {0} is = {1}\".format(Country,Countries[Country]))"
   ]
  },
  {
   "cell_type": "markdown",
   "metadata": {},
   "source": [
    "# Dict"
   ]
  },
  {
   "cell_type": "code",
   "execution_count": 10,
   "metadata": {},
   "outputs": [
    {
     "name": "stdout",
     "output_type": "stream",
     "text": [
      "## looping list ##\n",
      "{'name': 'arun', 'email': 'santhu@gmail.com'}\n",
      "{'name': 'karthi', 'email': 'karthi@gmail.com'}\n"
     ]
    }
   ],
   "source": [
    "#dict_inside_list\n",
    "dic = [\n",
    "        {\"name\": \"arun\", \"email\": \"santhu@gmail.com\"},\n",
    "        {\"name\": \"karthi\", \"email\": \"karthi@gmail.com\"},\n",
    "        ]\n",
    "print(\"## looping list ##\")\n",
    "for x in dic:\n",
    "    print(x)"
   ]
  },
  {
   "cell_type": "code",
   "execution_count": 14,
   "metadata": {},
   "outputs": [
    {
     "name": "stdout",
     "output_type": "stream",
     "text": [
      "name : arun\n",
      "email : santhu@gmail.com\n",
      "name : karthi\n",
      "email : karthi@gmail.com\n",
      "karthi\n"
     ]
    }
   ],
   "source": [
    "for x in dic:\n",
    "    for key in x:\n",
    "        print(f\"{key} : {x[key]}\")\n",
    "        \n",
    "print(dic[1][\"name\"])"
   ]
  },
  {
   "cell_type": "code",
   "execution_count": 46,
   "metadata": {},
   "outputs": [
    {
     "name": "stdout",
     "output_type": "stream",
     "text": [
      "name\n",
      "email\n"
     ]
    }
   ],
   "source": [
    "myDict = {\"name\": \"karthi\", \"email\": \"karthi@gmail.com\"}\n",
    "# Print Dictionary Keys\n",
    "for key in myDict:\n",
    "    print(key)"
   ]
  },
  {
   "cell_type": "code",
   "execution_count": 49,
   "metadata": {},
   "outputs": [
    {
     "name": "stdout",
     "output_type": "stream",
     "text": [
      "karthi\n",
      "karthi@gmail.com\n",
      "karthi\n",
      "karthi@gmail.com\n"
     ]
    }
   ],
   "source": [
    "#iterate and print the values inside a dictionary.\n",
    "for value in myDict:\n",
    "    print(myDict[value])\n",
    "for i in myDict.values():\n",
    "    print(i)"
   ]
  },
  {
   "cell_type": "code",
   "execution_count": 48,
   "metadata": {},
   "outputs": [
    {
     "name": "stdout",
     "output_type": "stream",
     "text": [
      "name =  karthi@gmail.com\n",
      "email =  karthi@gmail.com\n",
      "name karthi\n",
      "email karthi@gmail.com\n",
      "('name', 'karthi')\n",
      "('email', 'karthi@gmail.com')\n"
     ]
    }
   ],
   "source": [
    "# Print Dictionary Values\n",
    "# Print Dictionary Values\n",
    "for x in myDict:\n",
    "    print(x, \"= \", myDict[value])\n",
    "\n",
    "for i,j in myDict.items():\n",
    "    print(i,j)\n",
    "    \n",
    "for i in myDict.items():\n",
    "    print(i)"
   ]
  },
  {
   "cell_type": "code",
   "execution_count": null,
   "metadata": {},
   "outputs": [],
   "source": []
  }
 ],
 "metadata": {
  "kernelspec": {
   "display_name": "Python 3",
   "language": "python",
   "name": "python3"
  },
  "language_info": {
   "codemirror_mode": {
    "name": "ipython",
    "version": 3
   },
   "file_extension": ".py",
   "mimetype": "text/x-python",
   "name": "python",
   "nbconvert_exporter": "python",
   "pygments_lexer": "ipython3",
   "version": "3.8.5"
  }
 },
 "nbformat": 4,
 "nbformat_minor": 4
}
